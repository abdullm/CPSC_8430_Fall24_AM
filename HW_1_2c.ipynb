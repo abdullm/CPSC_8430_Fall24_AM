{
 "cells": [
  {
   "cell_type": "markdown",
   "id": "f9f71e60-04d9-4dc7-ab33-8bb888b0885a",
   "metadata": {},
   "source": [
    "## CPSC 8430 Fall 24 HW 1_2c"
   ]
  },
  {
   "cell_type": "markdown",
   "id": "06cc1daf-2628-4b93-b2c5-bf23738f3c1f",
   "metadata": {},
   "source": [
    "#### 1. Import libraries"
   ]
  },
  {
   "cell_type": "code",
   "execution_count": 1,
   "id": "3cf1482d-4d78-4b58-bc67-52b2242b8642",
   "metadata": {},
   "outputs": [],
   "source": [
    "import torch\n",
    "import torch.nn as nn\n",
    "import torch.optim as optim\n",
    "from torch.autograd import grad\n",
    "import numpy as np\n",
    "import matplotlib.pyplot as plt\n",
    "from torchvision import datasets, transforms"
   ]
  },
  {
   "cell_type": "code",
   "execution_count": 2,
   "id": "a5da0f9e-a893-4cb3-9942-78fe76a3bb88",
   "metadata": {},
   "outputs": [
    {
     "data": {
      "text/plain": [
       "<torch.autograd.anomaly_mode.set_detect_anomaly at 0x7f319c1744d0>"
      ]
     },
     "execution_count": 2,
     "metadata": {},
     "output_type": "execute_result"
    }
   ],
   "source": [
    "# Enable anomaly detection for debugging\n",
    "torch.autograd.set_detect_anomaly(True)"
   ]
  },
  {
   "cell_type": "markdown",
   "id": "daeb46b8-2e4f-4054-8697-17d9adb71ad8",
   "metadata": {},
   "source": [
    "#### 2. Define DNN"
   ]
  },
  {
   "cell_type": "code",
   "execution_count": 3,
   "id": "46b5fa4e-a877-47c5-ba0d-ef67d30f1b50",
   "metadata": {},
   "outputs": [],
   "source": [
    "class DNN(nn.Module):\n",
    "    def __init__(self):\n",
    "        super(DNN, self).__init__()\n",
    "        self.fc1 = nn.Linear(1, 16)  # Input size is 1 (for x)\n",
    "        self.fc2 = nn.Linear(16, 8)\n",
    "        self.fc3 = nn.Linear(8, 1)\n",
    "\n",
    "    def forward(self, x):\n",
    "        x = torch.relu(self.fc1(x))\n",
    "        x = torch.relu(self.fc2(x))\n",
    "        x = self.fc3(x)\n",
    "        return x"
   ]
  },
  {
   "cell_type": "markdown",
   "id": "782e8a11-5e41-43a7-9843-0dfe80fcfc56",
   "metadata": {},
   "source": [
    "#### Function to generate data"
   ]
  },
  {
   "cell_type": "code",
   "execution_count": 4,
   "id": "f15f0d02-cbdc-40d2-a5da-8e7465ca5e40",
   "metadata": {},
   "outputs": [],
   "source": [
    "def generate_data(num_samples):\n",
    "    x = torch.rand(num_samples, 1)  # Random x values between 0 and 1\n",
    "    y = torch.sin(5 * torch.pi * x) / (5 * torch.pi * x)  # Calculate corresponding y values\n",
    "    return x, y"
   ]
  },
  {
   "cell_type": "markdown",
   "id": "a8ebd8a1-1038-4148-9586-b14feae7c237",
   "metadata": {},
   "source": [
    "#### 3. Function for calculating gradient norm (p=2)"
   ]
  },
  {
   "cell_type": "code",
   "execution_count": 5,
   "id": "fbde5160-3baa-427f-849e-f454927d8a62",
   "metadata": {},
   "outputs": [],
   "source": [
    "def calculate_gradient_norm(model):\n",
    "    grad_all = 0.0\n",
    "    for p in model.parameters():\n",
    "        if p.grad is not None:\n",
    "            grad = (p.grad.cpu().data.numpy() ** 2).sum()\n",
    "            grad_all += grad\n",
    "    grad_norm = grad_all ** 0.5\n",
    "    return grad_norm"
   ]
  },
  {
   "cell_type": "markdown",
   "id": "a3d43ba0-21a0-4f16-aa95-e3e77968b262",
   "metadata": {},
   "source": [
    "#### 4. Function for calculating Hessian matrix"
   ]
  },
  {
   "cell_type": "code",
   "execution_count": 6,
   "id": "2886367a-d18e-4f54-93d0-fcf93c6073ab",
   "metadata": {},
   "outputs": [],
   "source": [
    "def compute_hessian_diagonal(model, loss):\n",
    "    hessian = []\n",
    "    for param in model.parameters():\n",
    "        grad_params = grad(loss, param, create_graph=True)[0]\n",
    "        grad_params_flat = grad_params.contiguous().view(-1)\n",
    "        row = []\n",
    "        for g in grad_params_flat:\n",
    "            grad2nd = grad(g, param, retain_graph=True)[0]\n",
    "            row.append(grad2nd.contiguous().view(-1))\n",
    "        hessian.append(torch.cat(row))\n",
    "    return torch.cat(hessian).diag()"
   ]
  },
  {
   "cell_type": "markdown",
   "id": "f8f2c00e-e8fa-4738-b654-17b6ae963ec8",
   "metadata": {},
   "source": [
    "#### 5. Function for calculating minimul ratio"
   ]
  },
  {
   "cell_type": "code",
   "execution_count": 7,
   "id": "6f32d876-9897-4a17-8a92-fd10183bba25",
   "metadata": {},
   "outputs": [],
   "source": [
    "def compute_minimal_ratio(hessian):\n",
    "    eigenvalues = torch.linalg.eigvalsh(hessian.cpu())\n",
    "    positive_eigenvalues = torch.sum(eigenvalues > 0)\n",
    "    total_eigenvalues = len(eigenvalues)\n",
    "    minimal_ratio = positive_eigenvalues.item() / total_eigenvalues\n",
    "    return minimal_ratio"
   ]
  },
  {
   "cell_type": "markdown",
   "id": "53e3c7ae-17b2-4e53-93f7-cf0697add853",
   "metadata": {},
   "source": [
    "#### 6. Function to compute losses and sample weights"
   ]
  },
  {
   "cell_type": "code",
   "execution_count": 8,
   "id": "e63ec3ec-8927-4bf0-a105-458e52de8674",
   "metadata": {},
   "outputs": [],
   "source": [
    "def sample_and_compute_loss(model, theta_0, sample_count, loss_function, inputs, labels):\n",
    "    sampled_losses = []\n",
    "    for _ in range(sample_count):\n",
    "        # Generate random weights around theta_0\n",
    "        sampled_params = [p + torch.randn_like(p) * 0.01 for p in theta_0]\n",
    "        for param, sample in zip(model.parameters(), sampled_params):\n",
    "            param.data.copy_(sample)\n",
    "\n",
    "        # Compute the loss for this sampled weight set\n",
    "        outputs = model(inputs)\n",
    "        loss_sample = loss_function(outputs, labels)\n",
    "        sampled_losses.append(loss_sample.item())\n",
    "\n",
    "    return sampled_losses"
   ]
  },
  {
   "cell_type": "markdown",
   "id": "6f2155bb-d8bb-4689-aa33-289a53be7d03",
   "metadata": {},
   "source": [
    "#### 6. Training loop"
   ]
  },
  {
   "cell_type": "code",
   "execution_count": 9,
   "id": "b25e7d33-5457-4107-8df7-dda0431b0907",
   "metadata": {},
   "outputs": [
    {
     "name": "stdout",
     "output_type": "stream",
     "text": [
      "Epoch 1/100, Loss: 0.0031, Gradient Norm: 0.2131\n",
      "Epoch 2/100, Loss: 0.0141, Gradient Norm: 0.5139\n",
      "Epoch 3/100, Loss: 0.0218, Gradient Norm: 0.6942\n",
      "Epoch 4/100, Loss: 0.0196, Gradient Norm: 0.6629\n",
      "Epoch 5/100, Loss: 0.0163, Gradient Norm: 0.6035\n",
      "Epoch 6/100, Loss: 0.0123, Gradient Norm: 0.5283\n",
      "Epoch 7/100, Loss: 0.0092, Gradient Norm: 0.4663\n",
      "Epoch 8/100, Loss: 0.0068, Gradient Norm: 0.4113\n",
      "Epoch 9/100, Loss: 0.0049, Gradient Norm: 0.3617\n",
      "Epoch 10, Iteration 154, Switching to Gradient Norm Minimization\n",
      "Hessian computation done\n",
      "Minimal Ratio computation done\n",
      "Epoch 10, Iteration 154, Loss: 0.000000, Minimal Ratio: 0.146667, Proportion L(sample) > L(theta_0): 1.000000\n",
      "Epoch 10/100, Loss: 0.0042, Gradient Norm: 0.3436\n",
      "Epoch 11/100, Loss: 0.0034, Gradient Norm: 0.3224\n",
      "Epoch 12/100, Loss: 0.0028, Gradient Norm: 0.3101\n",
      "Epoch 13/100, Loss: 0.0023, Gradient Norm: 0.2903\n",
      "Epoch 14, Iteration 786, Switching to Gradient Norm Minimization\n",
      "Hessian computation done\n",
      "Minimal Ratio computation done\n",
      "Epoch 14, Iteration 786, Loss: 0.000000, Minimal Ratio: 0.055389, Proportion L(sample) > L(theta_0): 1.000000\n",
      "Epoch 14/100, Loss: 0.0015, Gradient Norm: 0.2459\n",
      "Epoch 15/100, Loss: 0.0013, Gradient Norm: 0.2309\n",
      "Epoch 16, Iteration 305, Switching to Gradient Norm Minimization\n",
      "Hessian computation done\n",
      "Minimal Ratio computation done\n",
      "Epoch 16, Iteration 305, Loss: 0.000000, Minimal Ratio: 0.156887, Proportion L(sample) > L(theta_0): 1.000000\n",
      "Epoch 16/100, Loss: 0.0010, Gradient Norm: 0.2177\n",
      "Epoch 17/100, Loss: 0.0008, Gradient Norm: 0.1957\n",
      "Epoch 18, Iteration 232, Switching to Gradient Norm Minimization\n",
      "Hessian computation done\n",
      "Minimal Ratio computation done\n",
      "Epoch 18, Iteration 232, Loss: 0.000000, Minimal Ratio: 0.131924, Proportion L(sample) > L(theta_0): 1.000000\n",
      "Epoch 18/100, Loss: 0.0007, Gradient Norm: 0.1833\n",
      "Epoch 19/100, Loss: 0.0006, Gradient Norm: 0.1739\n",
      "Epoch 20/100, Loss: 0.0005, Gradient Norm: 0.1562\n",
      "Epoch 21, Iteration 331, Switching to Gradient Norm Minimization\n",
      "Hessian computation done\n",
      "Minimal Ratio computation done\n",
      "Epoch 21, Iteration 331, Loss: 0.000000, Minimal Ratio: 0.156887, Proportion L(sample) > L(theta_0): 1.000000\n",
      "Epoch 21/100, Loss: 0.0003, Gradient Norm: 0.1222\n",
      "Epoch 22/100, Loss: 0.0003, Gradient Norm: 0.1184\n",
      "Epoch 23/100, Loss: 0.0002, Gradient Norm: 0.1080\n",
      "Epoch 24/100, Loss: 0.0002, Gradient Norm: 0.1038\n",
      "Epoch 25, Iteration 26, Switching to Gradient Norm Minimization\n",
      "Hessian computation done\n",
      "Minimal Ratio computation done\n",
      "Epoch 25, Iteration 26, Loss: 0.000000, Minimal Ratio: 0.081233, Proportion L(sample) > L(theta_0): 1.000000\n",
      "Epoch 25/100, Loss: 0.0002, Gradient Norm: 0.1095\n",
      "Epoch 26, Iteration 8, Switching to Gradient Norm Minimization\n",
      "Hessian computation done\n",
      "Minimal Ratio computation done\n",
      "Epoch 26, Iteration 8, Loss: 0.000000, Minimal Ratio: 0.067137, Proportion L(sample) > L(theta_0): 1.000000\n",
      "Epoch 26/100, Loss: 0.0003, Gradient Norm: 0.1202\n",
      "Epoch 27/100, Loss: 0.0003, Gradient Norm: 0.1228\n",
      "Epoch 28/100, Loss: 0.0003, Gradient Norm: 0.1232\n",
      "Epoch 29/100, Loss: 0.0003, Gradient Norm: 0.1229\n",
      "Epoch 30/100, Loss: 0.0002, Gradient Norm: 0.1057\n",
      "Epoch 31, Iteration 114, Switching to Gradient Norm Minimization\n",
      "Hessian computation done\n",
      "Minimal Ratio computation done\n",
      "Epoch 31, Iteration 114, Loss: 0.000000, Minimal Ratio: 0.054449, Proportion L(sample) > L(theta_0): 1.000000\n",
      "Epoch 31/100, Loss: 0.0002, Gradient Norm: 0.0960\n",
      "Epoch 32/100, Loss: 0.0002, Gradient Norm: 0.0966\n",
      "Epoch 33, Iteration 899, Switching to Gradient Norm Minimization\n",
      "Hessian computation done\n",
      "Minimal Ratio computation done\n",
      "Epoch 33, Iteration 899, Loss: 0.000000, Minimal Ratio: 0.130514, Proportion L(sample) > L(theta_0): 1.000000\n",
      "Epoch 33, Iteration 966, Switching to Gradient Norm Minimization\n",
      "Hessian computation done\n",
      "Minimal Ratio computation done\n",
      "Epoch 33, Iteration 966, Loss: 0.000000, Minimal Ratio: 0.155007, Proportion L(sample) > L(theta_0): 1.000000\n",
      "Epoch 33/100, Loss: 0.0000, Gradient Norm: 0.0298\n",
      "Epoch 34/100, Loss: 0.0001, Gradient Norm: 0.0833\n",
      "Epoch 35/100, Loss: 0.0001, Gradient Norm: 0.0783\n",
      "Epoch 36/100, Loss: 0.0001, Gradient Norm: 0.0769\n",
      "Epoch 37, Iteration 582, Switching to Gradient Norm Minimization\n",
      "Hessian computation done\n",
      "Minimal Ratio computation done\n",
      "Epoch 37, Iteration 582, Loss: 0.000000, Minimal Ratio: 0.146667, Proportion L(sample) > L(theta_0): 1.000000\n",
      "Epoch 37/100, Loss: 0.0001, Gradient Norm: 0.0640\n",
      "Epoch 38/100, Loss: 0.0001, Gradient Norm: 0.0669\n",
      "Epoch 39/100, Loss: 0.0001, Gradient Norm: 0.0647\n",
      "Epoch 40/100, Loss: 0.0001, Gradient Norm: 0.0626\n",
      "Epoch 41/100, Loss: 0.0001, Gradient Norm: 0.0565\n",
      "Epoch 42/100, Loss: 0.0001, Gradient Norm: 0.0559\n",
      "Epoch 43, Iteration 502, Switching to Gradient Norm Minimization\n",
      "Hessian computation done\n",
      "Minimal Ratio computation done\n",
      "Epoch 43, Iteration 502, Loss: 0.000000, Minimal Ratio: 0.067137, Proportion L(sample) > L(theta_0): 1.000000\n",
      "Epoch 43/100, Loss: 0.0001, Gradient Norm: 0.0553\n",
      "Epoch 44/100, Loss: 0.0001, Gradient Norm: 0.0582\n",
      "Epoch 45/100, Loss: 0.0001, Gradient Norm: 0.0552\n",
      "Epoch 46/100, Loss: 0.0001, Gradient Norm: 0.0540\n",
      "Epoch 47, Iteration 43, Switching to Gradient Norm Minimization\n",
      "Hessian computation done\n",
      "Minimal Ratio computation done\n",
      "Epoch 47, Iteration 43, Loss: 0.000000, Minimal Ratio: 0.155712, Proportion L(sample) > L(theta_0): 1.000000\n",
      "Epoch 47/100, Loss: 0.0001, Gradient Norm: 0.0584\n",
      "Epoch 48/100, Loss: 0.0000, Gradient Norm: 0.0498\n",
      "Epoch 49/100, Loss: 0.0000, Gradient Norm: 0.0458\n",
      "Epoch 50/100, Loss: 0.0000, Gradient Norm: 0.0453\n",
      "Epoch 51/100, Loss: 0.0000, Gradient Norm: 0.0455\n",
      "Epoch 52/100, Loss: 0.0000, Gradient Norm: 0.0442\n",
      "Epoch 53/100, Loss: 0.0000, Gradient Norm: 0.0434\n",
      "Epoch 54/100, Loss: 0.0000, Gradient Norm: 0.0434\n",
      "Epoch 55/100, Loss: 0.0000, Gradient Norm: 0.0395\n",
      "Epoch 56, Iteration 439, Switching to Gradient Norm Minimization\n",
      "Hessian computation done\n",
      "Minimal Ratio computation done\n",
      "Epoch 56, Iteration 439, Loss: 0.000000, Minimal Ratio: 0.023671, Proportion L(sample) > L(theta_0): 1.000000\n",
      "Epoch 56/100, Loss: 0.0001, Gradient Norm: 0.0612\n",
      "Epoch 57/100, Loss: 0.0000, Gradient Norm: 0.0454\n",
      "Epoch 58/100, Loss: 0.0000, Gradient Norm: 0.0358\n",
      "Epoch 59, Iteration 690, Switching to Gradient Norm Minimization\n",
      "Hessian computation done\n",
      "Minimal Ratio computation done\n",
      "Epoch 59, Iteration 690, Loss: 0.000000, Minimal Ratio: 0.079824, Proportion L(sample) > L(theta_0): 1.000000\n",
      "Epoch 59, Iteration 851, Switching to Gradient Norm Minimization\n",
      "Hessian computation done\n",
      "Minimal Ratio computation done\n",
      "Epoch 59, Iteration 851, Loss: 0.000000, Minimal Ratio: 0.036358, Proportion L(sample) > L(theta_0): 1.000000\n",
      "Epoch 59/100, Loss: 0.0001, Gradient Norm: 0.0524\n",
      "Epoch 60/100, Loss: 0.0000, Gradient Norm: 0.0381\n",
      "Epoch 61/100, Loss: 0.0000, Gradient Norm: 0.0389\n",
      "Epoch 62, Iteration 973, Switching to Gradient Norm Minimization\n",
      "Hessian computation done\n",
      "Minimal Ratio computation done\n",
      "Epoch 62, Iteration 973, Loss: 0.000000, Minimal Ratio: 0.023671, Proportion L(sample) > L(theta_0): 1.000000\n",
      "Epoch 62/100, Loss: 0.0000, Gradient Norm: 0.0329\n",
      "Epoch 63/100, Loss: 0.0000, Gradient Norm: 0.0285\n",
      "Epoch 64/100, Loss: 0.0000, Gradient Norm: 0.0343\n",
      "Epoch 65, Iteration 577, Switching to Gradient Norm Minimization\n",
      "Hessian computation done\n",
      "Minimal Ratio computation done\n",
      "Epoch 65, Iteration 577, Loss: 0.000000, Minimal Ratio: 0.072247, Proportion L(sample) > L(theta_0): 1.000000\n",
      "Epoch 65/100, Loss: 0.0000, Gradient Norm: 0.0273\n",
      "Epoch 66, Iteration 44, Switching to Gradient Norm Minimization\n",
      "Hessian computation done\n",
      "Minimal Ratio computation done\n",
      "Epoch 66, Iteration 44, Loss: 0.000000, Minimal Ratio: 0.018267, Proportion L(sample) > L(theta_0): 1.000000\n",
      "Epoch 66/100, Loss: 0.0000, Gradient Norm: 0.0138\n",
      "Epoch 67/100, Loss: 0.0000, Gradient Norm: 0.0107\n",
      "Epoch 68/100, Loss: 0.0000, Gradient Norm: 0.0089\n",
      "Epoch 69/100, Loss: 0.0000, Gradient Norm: 0.0087\n",
      "Epoch 70/100, Loss: 0.0000, Gradient Norm: 0.0094\n",
      "Epoch 71/100, Loss: 0.0000, Gradient Norm: 0.0106\n",
      "Epoch 72/100, Loss: 0.0000, Gradient Norm: 0.0114\n",
      "Epoch 73, Iteration 330, Switching to Gradient Norm Minimization\n",
      "Hessian computation done\n",
      "Minimal Ratio computation done\n",
      "Epoch 73, Iteration 330, Loss: 0.000000, Minimal Ratio: 0.025786, Proportion L(sample) > L(theta_0): 1.000000\n",
      "Epoch 73, Iteration 833, Switching to Gradient Norm Minimization\n",
      "Hessian computation done\n",
      "Minimal Ratio computation done\n",
      "Epoch 73, Iteration 833, Loss: 0.000000, Minimal Ratio: 0.081233, Proportion L(sample) > L(theta_0): 1.000000\n",
      "Epoch 73/100, Loss: 0.0003, Gradient Norm: 0.0529\n",
      "Epoch 74/100, Loss: 0.0000, Gradient Norm: 0.0175\n",
      "Epoch 75, Iteration 495, Switching to Gradient Norm Minimization\n",
      "Hessian computation done\n",
      "Minimal Ratio computation done\n",
      "Epoch 75, Iteration 495, Loss: 0.000000, Minimal Ratio: 0.025786, Proportion L(sample) > L(theta_0): 1.000000\n",
      "Epoch 75/100, Loss: 0.0000, Gradient Norm: 0.0161\n",
      "Epoch 76/100, Loss: 0.0000, Gradient Norm: 0.0109\n",
      "Epoch 77/100, Loss: 0.0000, Gradient Norm: 0.0079\n",
      "Epoch 78/100, Loss: 0.0000, Gradient Norm: 0.0080\n",
      "Epoch 79/100, Loss: 0.0000, Gradient Norm: 0.0112\n",
      "Epoch 80/100, Loss: 0.0000, Gradient Norm: 0.0121\n",
      "Epoch 81/100, Loss: 0.0000, Gradient Norm: 0.0124\n",
      "Epoch 82/100, Loss: 0.0000, Gradient Norm: 0.0124\n",
      "Epoch 83, Iteration 619, Switching to Gradient Norm Minimization\n",
      "Hessian computation done\n",
      "Minimal Ratio computation done\n",
      "Epoch 83, Iteration 619, Loss: 0.000000, Minimal Ratio: 0.044053, Proportion L(sample) > L(theta_0): 1.000000\n",
      "Epoch 83/100, Loss: 0.0000, Gradient Norm: 0.0158\n",
      "Epoch 84/100, Loss: 0.0000, Gradient Norm: 0.0139\n",
      "Epoch 85/100, Loss: 0.0000, Gradient Norm: 0.0135\n",
      "Epoch 86/100, Loss: 0.0000, Gradient Norm: 0.0127\n",
      "Epoch 87/100, Loss: 0.0000, Gradient Norm: 0.0125\n",
      "Epoch 88, Iteration 702, Switching to Gradient Norm Minimization\n",
      "Hessian computation done\n",
      "Minimal Ratio computation done\n",
      "Epoch 88, Iteration 702, Loss: 0.000000, Minimal Ratio: 0.036358, Proportion L(sample) > L(theta_0): 1.000000\n",
      "Epoch 88/100, Loss: 0.0001, Gradient Norm: 0.0264\n",
      "Epoch 89/100, Loss: 0.0000, Gradient Norm: 0.0174\n",
      "Epoch 90, Iteration 867, Switching to Gradient Norm Minimization\n",
      "Hessian computation done\n",
      "Minimal Ratio computation done\n",
      "Epoch 90, Iteration 867, Loss: 0.000000, Minimal Ratio: 0.036123, Proportion L(sample) > L(theta_0): 1.000000\n",
      "Epoch 90/100, Loss: 0.0000, Gradient Norm: 0.0165\n",
      "Epoch 91/100, Loss: 0.0000, Gradient Norm: 0.0130\n",
      "Epoch 92/100, Loss: 0.0000, Gradient Norm: 0.0129\n",
      "Epoch 93, Iteration 902, Switching to Gradient Norm Minimization\n",
      "Hessian computation done\n",
      "Minimal Ratio computation done\n",
      "Epoch 93, Iteration 902, Loss: 0.000000, Minimal Ratio: 0.011160, Proportion L(sample) > L(theta_0): 1.000000\n",
      "Epoch 93/100, Loss: 0.0001, Gradient Norm: 0.0243\n",
      "Epoch 94/100, Loss: 0.0000, Gradient Norm: 0.0137\n",
      "Epoch 95/100, Loss: 0.0000, Gradient Norm: 0.0135\n",
      "Epoch 96, Iteration 1, Switching to Gradient Norm Minimization\n",
      "Hessian computation done\n",
      "Minimal Ratio computation done\n",
      "Epoch 96, Iteration 1, Loss: 0.000000, Minimal Ratio: 0.043583, Proportion L(sample) > L(theta_0): 1.000000\n",
      "Epoch 96/100, Loss: 0.0000, Gradient Norm: 0.0123\n",
      "Epoch 97/100, Loss: 0.0000, Gradient Norm: 0.0131\n",
      "Epoch 98/100, Loss: 0.0000, Gradient Norm: 0.0135\n",
      "Epoch 99/100, Loss: 0.0000, Gradient Norm: 0.0139\n",
      "Epoch 100/100, Loss: 0.0000, Gradient Norm: 0.0147\n"
     ]
    }
   ],
   "source": [
    "# Training parameters\n",
    "epochs = 100\n",
    "grad_norm_threshold = 5e-5  # Threshold to switch to gradient norm minimization\n",
    "minimal_ratios = []\n",
    "losses = []\n",
    "early_stopping_patience = 10 \n",
    "\n",
    "# Generate data\n",
    "num_samples = 1000\n",
    "x, y = generate_data(num_samples)\n",
    "\n",
    "# Initialize model and optimizer\n",
    "model = DNN()\n",
    "optimizer = optim.Adam(model.parameters(), lr=0.001)\n",
    "\n",
    "# Training loop\n",
    "for epoch in range(epochs):\n",
    "    for i in range(num_samples):\n",
    "        model.zero_grad()\n",
    "        outputs = model(x[i].unsqueeze(0))  \n",
    "        loss = nn.MSELoss()(outputs, y[i].unsqueeze(0))\n",
    "        loss.backward(retain_graph=True)  # retain the graph for second-order derivatives\n",
    "\n",
    "        grad_norm = calculate_gradient_norm(model)\n",
    "\n",
    "        # Switch to minimizing gradient norm if it is below the threshold\n",
    "        if grad_norm < grad_norm_threshold:\n",
    "            print(f\"Epoch {epoch + 1}, Iteration {i + 1}, Switching to Gradient Norm Minimization\")\n",
    "\n",
    "            # Compute Hessian (using diagonal approximation)\n",
    "            hessian = compute_hessian_diagonal(model, loss)\n",
    "            print(\"Hessian computation done\")\n",
    "\n",
    "            # Compute minimal ratio using the Hessian's eigenvalues\n",
    "            minimal_ratio = compute_minimal_ratio(hessian)\n",
    "            minimal_ratios.append(minimal_ratio)\n",
    "            print(\"Minimal Ratio computation done\")\n",
    "\n",
    "            # Sample multiple weights around this point and compute losses\n",
    "            theta_0 = [p.data.clone() for p in model.parameters()]  # Save the current weights (theta_0)\n",
    "            sampled_losses = sample_and_compute_loss(model, theta_0, sample_count=10,\n",
    "                                                    loss_function=nn.MSELoss(),\n",
    "                                                    inputs=x[i].unsqueeze(0), labels=y[i].unsqueeze(0))\n",
    "\n",
    "            # Calculate how many of the sampled losses are greater than the original loss\n",
    "            proportion_greater = sum([1 for sl in sampled_losses if sl > loss.item()]) / len(sampled_losses)\n",
    "\n",
    "            # Print the detailed output\n",
    "            print(f\"Epoch {epoch + 1}, Iteration {i + 1}, Loss: {loss.item():.6f}, Minimal Ratio: {minimal_ratio:.6f}, Proportion L(sample) > L(theta_0): {proportion_greater:.6f}\")\n",
    "\n",
    "            losses.append(loss.item())\n",
    "\n",
    "        # Update weights at the end using optimizer based on the original loss\n",
    "        optimizer.step()\n",
    "\n",
    "    # Print outputs for the epoch\n",
    "    print(f'Epoch {epoch+1}/{epochs}, Loss: {loss.item():.4f}, Gradient Norm: {grad_norm:.4f}')\n",
    "\n",
    "    # Early stopping check\n",
    "    if len(minimal_ratios) > early_stopping_patience and all(mr < minimal_ratios[-early_stopping_patience] for mr in minimal_ratios[-early_stopping_patience:]):\n",
    "        print(\"Early stopping triggered!\")\n",
    "        break"
   ]
  },
  {
   "cell_type": "markdown",
   "id": "554a73c3-3f5a-42df-a010-4be2e8699721",
   "metadata": {},
   "source": [
    "#### 7. Plotting minimal ratio vs loss"
   ]
  },
  {
   "cell_type": "code",
   "execution_count": 10,
   "id": "fce1012e-c461-4d36-b81b-c18f51d82256",
   "metadata": {
    "tags": []
   },
   "outputs": [
    {
     "data": {
      "image/png": "[encoded data removed]",
      "text/plain": [
       "<Figure size 800x600 with 1 Axes>"
      ]
     },
     "metadata": {},
     "output_type": "display_data"
    }
   ],
   "source": [
    "plt.figure(figsize=(8, 6))\n",
    "plt.scatter(minimal_ratios, losses)\n",
    "plt.xlabel('Minimal Ratio')\n",
    "plt.ylabel('Loss')\n",
    "plt.title('Minimal Ratio vs Loss when Gradient is Almost Zero')\n",
    "plt.show()"
   ]
  }
 ],
 "metadata": {
  "kernelspec": {
   "display_name": "Python 3 (ipykernel)",
   "language": "python",
   "name": "python3"
  },
  "language_info": {
   "codemirror_mode": {
    "name": "ipython",
    "version": 3
   },
   "file_extension": ".py",
   "mimetype": "text/x-python",
   "name": "python",
   "nbconvert_exporter": "python",
   "pygments_lexer": "ipython3",
   "version": "3.11.5"
  }
 },
 "nbformat": 4,
 "nbformat_minor": 5
}
